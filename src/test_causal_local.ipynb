{
 "cells": [
  {
   "cell_type": "code",
   "execution_count": null,
   "metadata": {},
   "outputs": [],
   "source": [
    "from rome.causal_trace import ModelAndTokenizer, predict_token, calculate_hidden_flow\n",
    "from rome.causal_trace import plot_hidden_flow, plot_all_flow"
   ]
  },
  {
   "cell_type": "code",
   "execution_count": null,
   "metadata": {},
   "outputs": [],
   "source": [
    "mt = ModelAndTokenizer(\"gpt2\")"
   ]
  },
  {
   "cell_type": "code",
   "execution_count": null,
   "metadata": {},
   "outputs": [],
   "source": [
    "test1 = predict_token(\n",
    "    mt,\n",
    "    ['Neil Armstrong was the fi rst man on the'],\n",
    "    return_p=True,\n",
    ")\n",
    "test2 = predict_token(\n",
    "    mt,\n",
    "    ['Barack Obama is the first african-american'],\n",
    "    return_p=True,\n",
    ")\n",
    "print(test1, test2)"
   ]
  },
  {
   "cell_type": "code",
   "execution_count": null,
   "metadata": {},
   "outputs": [],
   "source": [
    "res1 = calculate_hidden_flow(\n",
    "    mt,\n",
    "    \"Neil Armstrong was the first man on the\",\n",
    "    subject=\"Neil Armstrong\",\n",
    "    kind=\"mlp\",\n",
    "    noise=0.15,\n",
    "    window=5,\n",
    "    samples=10,\n",
    ")\n",
    "res2 = calculate_hidden_flow(\n",
    "    mt,\n",
    "    \"Barack Obama is the first african-american\",\n",
    "    subject=\"Barack Obama\",\n",
    "    kind=\"mlp\",\n",
    "    noise=0.15,\n",
    "    window=5,\n",
    "    samples=10,\n",
    ")\n",
    "print(res1)\n",
    "print(res2)"
   ]
  },
  {
   "cell_type": "code",
   "execution_count": null,
   "metadata": {},
   "outputs": [],
   "source": [
    "res3 = calculate_hidden_flow(\n",
    "    mt,\n",
    "    \"Neil Armstrong was the first man on the\",\n",
    "    subject=\"Neil Armstrong\",\n",
    "    kind=\"mlp\",\n",
    "    noise=0.15,\n",
    "    window=5,\n",
    "    samples=10,\n",
    "    expect=\"mars\",\n",
    ")\n",
    "res4 = calculate_hidden_flow(\n",
    "    mt,\n",
    "    \"Neil Armstrong was the first man on the\",\n",
    "    subject=\"Neil Armstrong\",\n",
    "    kind=\"mlp\",\n",
    "    noise=0.15,\n",
    "    window=5,\n",
    "    samples=10,\n",
    "    expect=\"moon\",\n",
    ")\n",
    "print(res3)\n",
    "print(res4)"
   ]
  },
  {
   "cell_type": "code",
   "execution_count": null,
   "metadata": {
    "scrolled": false
   },
   "outputs": [],
   "source": [
    "plot_hidden_flow(mt, \"Neil Armstrong was the first man on the\", kind=\"mlp\", noise=0.15, window=5)\n",
    "plot_hidden_flow(mt, \"Barack Obama is the first african-american\", kind=\"mlp\", noise=0.15, window=5)"
   ]
  },
  {
   "cell_type": "code",
   "execution_count": null,
   "metadata": {},
   "outputs": [],
   "source": [
    "plot_hidden_flow(\n",
    "    mt,\n",
    "    \"Armstrong was cool and Obama was the first african-american\",\n",
    "    subject=\"Obama\",\n",
    "    kind=\"mlp\",\n",
    "    noise=0.2,\n",
    "    window=5,\n",
    ")"
   ]
  },
  {
   "cell_type": "code",
   "execution_count": null,
   "metadata": {},
   "outputs": [],
   "source": [
    "plot_all_flow(mt, \"Neil Armstrong was the first man on the\")"
   ]
  },
  {
   "cell_type": "code",
   "execution_count": null,
   "metadata": {},
   "outputs": [],
   "source": []
  }
 ],
 "metadata": {
  "kernelspec": {
   "display_name": "Python 3",
   "language": "python",
   "name": "python3"
  },
  "language_info": {
   "codemirror_mode": {
    "name": "ipython",
    "version": 3
   },
   "file_extension": ".py",
   "mimetype": "text/x-python",
   "name": "python",
   "nbconvert_exporter": "python",
   "pygments_lexer": "ipython3",
   "version": "3.8.5"
  }
 },
 "nbformat": 4,
 "nbformat_minor": 4
}
